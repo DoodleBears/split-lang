{
  "cells": [
    {
      "cell_type": "code",
      "execution_count": 7,
      "metadata": {},
      "outputs": [],
      "source": [
        "%%capture\n",
        "%pip install split-lang==1.3.9"
      ]
    },
    {
      "cell_type": "code",
      "execution_count": 8,
      "metadata": {},
      "outputs": [],
      "source": [
        "from split_lang import LangSplitter\n",
        "\n",
        "lang_splitter = LangSplitter()"
      ]
    },
    {
      "cell_type": "code",
      "execution_count": 9,
      "metadata": {},
      "outputs": [
        {
          "name": "stdout",
          "output_type": "stream",
          "text": [
            "0|zh:你喜欢看\n",
            "1|ja:アニメ\n",
            "2|zh:吗\n"
          ]
        }
      ],
      "source": [
        "text = \"你喜欢看アニメ吗\"\n",
        "\n",
        "substr = lang_splitter.split_by_lang(\n",
        "    text=text,\n",
        ")\n",
        "for index, item in enumerate(substr):\n",
        "    print(f\"{index}|{item.lang}:{item.text}\")"
      ]
    },
    {
      "cell_type": "code",
      "execution_count": 10,
      "metadata": {},
      "outputs": [
        {
          "name": "stdout",
          "output_type": "stream",
          "text": [
            "0|zh:你喜欢看\n",
            "1|ja:アニメ\n",
            "2|zh:吗？我也喜欢看\n",
            "----------------------\n",
            "0|en:Please star this project on GitHub, Thanks you. I love you\n",
            "1|zh:请加星这个项目，谢谢你。我爱你\n",
            "2|ja:この項目をスターしてください、ありがとうございます！愛してる\n",
            "----------------------\n",
            "0|ja:日本語（にほんご、にっぽんご）は、日本国内や、かつての日本領だった国、そして国外移民や移住者を含む日本人同士の間で使用されている言語。日本は法令によって公用語を規定していないが、法令その他の公用文は全て日本語で記述され、各種法令において日本語を用いることが規定され、学校教育においては「国語」の教科として学習を行うなど、事実上日本国内において唯一の公用語となっている。\n",
            "----------------------\n",
            "0|zh:日语是日本通用语及事实上的官方语言。没有精确的日语使用人口的统计，如果计算日本人口以及居住在日本以外的日本人、日侨和日裔，日语使用者应超过一亿三千万人。\n",
            "----------------------\n",
            "0.014938831329345703\n"
          ]
        }
      ],
      "source": [
        "lang_splitter.merge_across_punctuation = True\n",
        "import time\n",
        "\n",
        "texts = [\n",
        "    \"你喜欢看アニメ吗？我也喜欢看\",\n",
        "    \"Please star this project on GitHub, Thanks you. I love you请加星这个项目，谢谢你。我爱你この項目をスターしてください、ありがとうございます！愛してる\",\n",
        "    \"日本語（にほんご、にっぽんご）は、日本国内や、かつての日本領だった国、そして国外移民や移住者を含む日本人同士の間で使用されている言語。日本は法令によって公用語を規定していないが、法令その他の公用文は全て日本語で記述され、各種法令において日本語を用いることが規定され、学校教育においては「国語」の教科として学習を行うなど、事実上日本国内において唯一の公用語となっている。\",\n",
        "    \"日语是日本通用语及事实上的官方语言。没有精确的日语使用人口的统计，如果计算日本人口以及居住在日本以外的日本人、日侨和日裔，日语使用者应超过一亿三千万人。\",\n",
        "]\n",
        "time1 = time.time()\n",
        "for text in texts:\n",
        "    substr = lang_splitter.split_by_lang(\n",
        "        text=text,\n",
        "    )\n",
        "    for index, item in enumerate(substr):\n",
        "        print(f\"{index}|{item.lang}:{item.text}\")\n",
        "    print(\"----------------------\")\n",
        "time2 = time.time()\n",
        "print(time2 - time1)"
      ]
    },
    {
      "cell_type": "code",
      "execution_count": 11,
      "metadata": {},
      "outputs": [
        {
          "name": "stdout",
          "output_type": "stream",
          "text": [
            "0|zh:你喜欢看\n",
            "1|ja:アニメ\n",
            "2|zh:吗\n",
            "3|punctuation:？\n",
            "4|zh:我也喜欢看\n",
            "----------------------\n",
            "0|en:Please star this project on GitHub\n",
            "1|punctuation:, \n",
            "2|en:Thanks you\n",
            "3|punctuation:. \n",
            "4|en:I love you\n",
            "5|zh:请加星这个项目\n",
            "6|punctuation:，\n",
            "7|zh:谢谢你\n",
            "8|punctuation:。\n",
            "9|zh:我爱你\n",
            "10|ja:この項目をスターしてください\n",
            "11|punctuation:、\n",
            "12|ja:ありがとうございます\n",
            "13|punctuation:！\n",
            "14|ja:愛してる\n",
            "----------------------\n",
            "0|ja:日本語\n",
            "1|punctuation:（\n",
            "2|ja:にほんご\n",
            "3|punctuation:、\n",
            "4|ja:にっぽんご\n",
            "5|punctuation:）\n",
            "6|ja:は\n",
            "7|punctuation:、\n",
            "8|ja:日本国内や\n",
            "9|punctuation:、\n",
            "10|ja:かつての日本領だった国\n",
            "11|punctuation:、\n",
            "12|ja:そして国外移民や移住者を含む日本人同士の間で使用されている言語\n",
            "13|punctuation:。\n",
            "14|ja:日本は法令によって公用語を規定していないが\n",
            "15|punctuation:、\n",
            "16|ja:法令その他の公用文は全て日本語で記述され\n",
            "17|punctuation:、\n",
            "18|ja:各種法令において日本語を用いることが規定され\n",
            "19|punctuation:、\n",
            "20|ja:学校教育においては\n",
            "21|punctuation:「\n",
            "22|ja:国語\n",
            "23|punctuation:」\n",
            "24|ja:の教科として学習を行うなど\n",
            "25|punctuation:、\n",
            "26|ja:事実上日本国内において唯一の公用語となっている\n",
            "27|punctuation:。\n",
            "----------------------\n",
            "0|zh:日语是日本通用语及事实上的官方语言\n",
            "1|punctuation:。\n",
            "2|zh:没有精确的日语使用人口的统计\n",
            "3|punctuation:，\n",
            "4|zh:如果计算日本人口以及居住在日本以外的日本人\n",
            "5|punctuation:、\n",
            "6|zh:日侨和日裔\n",
            "7|punctuation:，\n",
            "8|zh:日语使用者应超过一亿三千万人\n",
            "9|punctuation:。\n",
            "----------------------\n",
            "0.014517545700073242\n"
          ]
        }
      ],
      "source": [
        "lang_splitter.merge_across_punctuation = False\n",
        "time1 = time.time()\n",
        "for text in texts:\n",
        "    substr = lang_splitter.split_by_lang(\n",
        "        text=text,\n",
        "    )\n",
        "    for index, item in enumerate(substr):\n",
        "        print(f\"{index}|{item.lang}:{item.text}\")\n",
        "    print(\"----------------------\")\n",
        "time2 = time.time()\n",
        "print(time2 - time1)"
      ]
    },
    {
      "cell_type": "code",
      "execution_count": 12,
      "metadata": {},
      "outputs": [
        {
          "name": "stdout",
          "output_type": "stream",
          "text": [
            "0|zh:衬衫的价格是\n",
            "1|digit:9.15\n",
            "2|zh:便士\n"
          ]
        }
      ],
      "source": [
        "lang_splitter.merge_across_digit = False\n",
        "texts = [\n",
        "    \"衬衫的价格是9.15便士\",\n",
        "]\n",
        "for text in texts:\n",
        "    substr = lang_splitter.split_by_lang(\n",
        "        text=text,\n",
        "    )\n",
        "    for index, item in enumerate(substr):\n",
        "        print(f\"{index}|{item.lang}:{item.text}\")"
      ]
    }
  ],
  "metadata": {
    "kernelspec": {
      "display_name": "melotts",
      "language": "python",
      "name": "python3"
    },
    "language_info": {
      "codemirror_mode": {
        "name": "ipython",
        "version": 3
      },
      "file_extension": ".py",
      "mimetype": "text/x-python",
      "name": "python",
      "nbconvert_exporter": "python",
      "pygments_lexer": "ipython3",
      "version": "3.10.14"
    }
  },
  "nbformat": 4,
  "nbformat_minor": 2
}
